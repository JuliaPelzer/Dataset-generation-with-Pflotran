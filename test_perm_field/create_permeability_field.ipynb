{
 "cells": [
  {
   "cell_type": "code",
   "execution_count": 1,
   "metadata": {},
   "outputs": [],
   "source": [
    "import numpy as np\n",
    "import matplotlib.pyplot as plt\n",
    "import sys\n",
    "import math\n",
    "from h5py import *\n",
    "import matplotlib.pyplot as plt\n",
    "from scipy.interpolate import RegularGridInterpolator"
   ]
  },
  {
   "cell_type": "code",
   "execution_count": 2,
   "metadata": {},
   "outputs": [],
   "source": [
    "# 2d plot of the permeability field\n",
    "def plot(cells, case=\"trigonometric\"):\n",
    "    fig, axes = plt.subplots(2, 2, figsize=(10, 6))\n",
    "    fig.suptitle(f\"Permeability field [{case}]\")\n",
    "    axes = axes.ravel()\n",
    "    axes[0].imshow(cells[:,:,0])\n",
    "    axes[2].imshow(cells[:,0,:])\n",
    "    axes[3].imshow(cells[0,:,:])\n",
    "    axes[0].set_title(\"yz\")\n",
    "    axes[2].set_title(\"xz\")\n",
    "    axes[3].set_title(\"xy\")\n",
    "    for i in range(0,4):\n",
    "        axes[i].axis(\"off\")\n",
    "    fig.tight_layout()\n",
    "    # plt.colorbar()\n",
    "    fig.show()\n"
   ]
  },
  {
   "cell_type": "code",
   "execution_count": 3,
   "metadata": {},
   "outputs": [],
   "source": [
    "def make_perm_grid(max, min, factor, ncells, size, case=\"trigonometric\"):\n",
    "    length_cells = size / ncells\n",
    "    icells = [np.linspace(1, ncells[i], ncells[i]) for i in (0,1,2)]\n",
    "    idx, idy, idz = np.meshgrid(icells[0], icells[1], icells[2], indexing=\"ij\")\n",
    "    if case==\"trigonometric\":\n",
    "        # function exemplary\n",
    "        def fct_sin(value):\n",
    "            return (max - min)/2 * np.sin(value/factor) + (max + min)/2\n",
    "        def fct_cos(value):\n",
    "            return (max - min)/2 * np.cos(value/factor) + (max + min)/2\n",
    "        values = (fct_cos(idx*length_cells[1])+fct_cos(idy*length_cells[0])+fct_cos(idz*length_cells[2]))/3  # ORDER X,Y,Z\n",
    "    elif case==\"rand_interpolate\":\n",
    "        # Interpolation with RegularGridInterpolator from scipy (can do 3D, works on a regular grid)\n",
    "        nbases = 5\n",
    "        length_cells_base = size / nbases\n",
    "        icells_base = [np.linspace(1, ncells[i], nbases) for i in (0,1,2)]\n",
    "        idx_base, idy_base, idz_base = np.meshgrid(icells_base[0], icells_base[1], icells_base[2], indexing=\"ij\") # ORDER X,Y,Z\n",
    "\n",
    "        def fct_rand(shape=[nbases,nbases,nbases]):\n",
    "            return np.random.uniform(min, max, size=shape)\n",
    "        values_base = fct_rand()\n",
    "\n",
    "        test_points = np.array([idx.ravel(), idy.ravel(), idz.ravel()]).T\n",
    "        interpolator = RegularGridInterpolator(icells_base, values_base)\n",
    "        method = \"linear\" # in ['linear', 'nearest', 'slinear', 'cubic', 'quintic']:\n",
    "        values = interpolator(test_points, method=method).reshape(ncells[0], ncells[1], ncells[2]).T\n",
    "    \n",
    "    return values, icells\n",
    "\n",
    "def save_perm(filename, ncells, cells):\n",
    "    n = ncells[0] * ncells[1] * ncells[2]\n",
    "    cells_array_flatten = cells.reshape(n, order='F')\n",
    "\n",
    "    h5file = File(filename,mode='w')\n",
    "\n",
    "    # create integer array for cell ids\n",
    "    iarray = np.arange(n,dtype='u8')\n",
    "    # convert to 1-based\n",
    "    iarray[:] += 1\n",
    "    dataset_name = 'Cell Ids'\n",
    "    h5dset = h5file.create_dataset(dataset_name, data=iarray)\n",
    "\n",
    "    # create double array for porosities\n",
    "    # rarray = np.zeros(n,dtype='f8')\n",
    "    # rarray[:] = 0.25\n",
    "    # rarray[4:7] = 0.3\n",
    "    dataset_name = 'Permeability'\n",
    "    h5dset = h5file.create_dataset(dataset_name, data=cells_array_flatten)\n",
    "\n",
    "    h5file.close()"
   ]
  },
  {
   "cell_type": "code",
   "execution_count": 4,
   "metadata": {},
   "outputs": [
    {
     "name": "stderr",
     "output_type": "stream",
     "text": [
      "/tmp/ipykernel_41882/3445004395.py:16: UserWarning: Matplotlib is currently using module://matplotlib_inline.backend_inline, which is a non-GUI backend, so cannot show the figure.\n",
      "  fig.show()\n"
     ]
    },
    {
     "data": {
      "image/png": "[encoded data removed]",
      "text/plain": [
       "<Figure size 720x432 with 4 Axes>"
      ]
     },
     "metadata": {
      "needs_background": "light"
     },
     "output_type": "display_data"
    }
   ],
   "source": [
    "# size = np.array([500, 1000, 30])\n",
    "size = np.array([100, 500, 30])\n",
    "# ncells = np.array([75, 150, 12])\n",
    "ncells = np.array([20, 150, 12])\n",
    "perm_max = 6.65*10**-9\n",
    "perm_min = 1.36*10**-12\n",
    "factor = 40\n",
    "case=\"rand_interpolate\"\n",
    "cells, icells = make_perm_grid(perm_max, perm_min, factor, ncells, size, case=case)\n",
    "plot(cells, case=case)"
   ]
  },
  {
   "cell_type": "code",
   "execution_count": 6,
   "metadata": {},
   "outputs": [],
   "source": [
    "filename = 'permeability.h5'\n",
    "# TODO dimensionen? Reihenfolge?\n",
    "save_perm(filename, ncells, cells)"
   ]
  },
  {
   "cell_type": "code",
   "execution_count": 192,
   "metadata": {},
   "outputs": [],
   "source": [
    "# # read hdf5 file\n",
    "# h5file_compare = File(\"543_initial_pressure.h5\",mode='r')\n",
    "# # print header in h5 file\n",
    "# print(h5file_compare.keys())\n",
    "# print(h5file_compare['Cell Ids'])\n",
    "# print(h5file_compare['Cell Ids'][:])\n",
    "# print(h5file_compare['Pressure'])\n",
    "# print(h5file_compare['Pressure'][:])"
   ]
  },
  {
   "cell_type": "code",
   "execution_count": 193,
   "metadata": {},
   "outputs": [],
   "source": [
    "# # read h5 perm file\n",
    "# h5file = File(\"permeability.h5\",mode='r')\n",
    "\n",
    "# # print header in h5 file\n",
    "# print(h5file.keys())\n",
    "# print(h5file['Cell Ids'])\n",
    "# print(h5file['Cell Ids'][:])\n",
    "# print(h5file['Permeability'])\n",
    "# print(h5file['Permeability'][:])\n",
    "\n",
    "# h5file.close()"
   ]
  }
 ],
 "metadata": {
  "kernelspec": {
   "display_name": "Python 3.8.10 64-bit",
   "language": "python",
   "name": "python3"
  },
  "language_info": {
   "codemirror_mode": {
    "name": "ipython",
    "version": 3
   },
   "file_extension": ".py",
   "mimetype": "text/x-python",
   "name": "python",
   "nbconvert_exporter": "python",
   "pygments_lexer": "ipython3",
   "version": "3.8.10"
  },
  "orig_nbformat": 4,
  "vscode": {
   "interpreter": {
    "hash": "916dbcbb3f70747c44a77c7bcd40155683ae19c65e1c03b4aa3499c5328201f1"
   }
  }
 },
 "nbformat": 4,
 "nbformat_minor": 2
}
