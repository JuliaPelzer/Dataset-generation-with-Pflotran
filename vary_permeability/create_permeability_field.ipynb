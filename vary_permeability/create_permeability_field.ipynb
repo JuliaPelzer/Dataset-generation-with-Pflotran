{
 "cells": [
  {
   "cell_type": "code",
   "execution_count": 3,
   "metadata": {},
   "outputs": [
    {
     "name": "stdout",
     "output_type": "stream",
     "text": [
      "The autoreload extension is already loaded. To reload it, use:\n",
      "  %reload_ext autoreload\n"
     ]
    }
   ],
   "source": [
    "import numpy as np\n",
    "import matplotlib.pyplot as plt\n",
    "import sys\n",
    "import math\n",
    "from h5py import *\n",
    "import matplotlib.pyplot as plt\n",
    "from scipy.interpolate import RegularGridInterpolator\n",
    "import noise\n",
    "\n",
    "# autoreload\n",
    "%load_ext autoreload\n",
    "%autoreload 2"
   ]
  },
  {
   "cell_type": "code",
   "execution_count": 5,
   "metadata": {},
   "outputs": [
    {
     "name": "stdout",
     "output_type": "stream",
     "text": [
      "<KeysViewHDF5 ['Cell Ids', 'Pressure']>\n",
      "<HDF5 dataset \"Cell Ids\": shape (60,), type \"<u8\">\n",
      "[ 1  2  3  4  5  6  7  8  9 10 11 12 13 14 15 16 17 18 19 20 21 22 23 24\n",
      " 25 26 27 28 29 30 31 32 33 34 35 36 37 38 39 40 41 42 43 44 45 46 47 48\n",
      " 49 50 51 52 53 54 55 56 57 58 59 60]\n",
      "<HDF5 dataset \"Pressure\": shape (60,), type \"<f8\">\n",
      "[369447.51504497 367736.19849105 365861.89940819 363824.61779638\n",
      " 361624.35365562 369447.51504497 367736.19849105 365861.89940819\n",
      " 363824.61779638 361624.35365562 369447.51504497 367736.19849105\n",
      " 365861.89940819 363824.61779638 361624.35365562 369447.51504497\n",
      " 367736.19849105 365861.89940819 363824.61779638 361624.35365562\n",
      " 198301.75307422 196590.4365203  194716.13743743 192678.85582562\n",
      " 190478.59168487 198301.75307422 196590.4365203  194716.13743743\n",
      " 192678.85582562 190478.59168487 198301.75307422 196590.4365203\n",
      " 194716.13743743 192678.85582562 190478.59168487 198301.75307422\n",
      " 196590.4365203  194716.13743743 192678.85582562 190478.59168487\n",
      " -21723.44656985 -23434.76312377 -25309.06220663 -27346.34381844\n",
      " -29546.6079592  -21723.44656985 -23434.76312377 -25309.06220663\n",
      " -27346.34381844 -29546.6079592  -21723.44656985 -23434.76312377\n",
      " -25309.06220663 -27346.34381844 -29546.6079592  -21723.44656985\n",
      " -23434.76312377 -25309.06220663 -27346.34381844 -29546.6079592 ]\n"
     ]
    }
   ],
   "source": [
    "# read hdf5 file\n",
    "h5file_compare = File(\"test_perm_field/543_initial_pressure.h5\",mode='r')\n",
    "# print header in h5 file\n",
    "print(h5file_compare.keys())\n",
    "print(h5file_compare['Cell Ids'])\n",
    "print(h5file_compare['Cell Ids'][:])\n",
    "print(h5file_compare['Pressure'])\n",
    "print(h5file_compare['Pressure'][:])"
   ]
  }
 ],
 "metadata": {
  "kernelspec": {
   "display_name": "Python 3.8.10 64-bit",
   "language": "python",
   "name": "python3"
  },
  "language_info": {
   "codemirror_mode": {
    "name": "ipython",
    "version": 3
   },
   "file_extension": ".py",
   "mimetype": "text/x-python",
   "name": "python",
   "nbconvert_exporter": "python",
   "pygments_lexer": "ipython3",
   "version": "3.8.10"
  },
  "orig_nbformat": 4,
  "vscode": {
   "interpreter": {
    "hash": "916dbcbb3f70747c44a77c7bcd40155683ae19c65e1c03b4aa3499c5328201f1"
   }
  }
 },
 "nbformat": 4,
 "nbformat_minor": 2
}
