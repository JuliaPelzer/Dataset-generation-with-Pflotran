{
 "cells": [
  {
   "attachments": {},
   "cell_type": "markdown",
   "metadata": {},
   "source": [
    "# Evaluation of the benchmark dataset"
   ]
  },
  {
   "cell_type": "code",
   "execution_count": 40,
   "metadata": {},
   "outputs": [],
   "source": [
    "import h5py\n",
    "import os\n",
    "import numpy as np\n",
    "import matplotlib.pyplot as plt"
   ]
  },
  {
   "attachments": {},
   "cell_type": "markdown",
   "metadata": {},
   "source": [
    "## Evaluate max. temperature of 2D Pflotran dataset"
   ]
  },
  {
   "cell_type": "code",
   "execution_count": 114,
   "metadata": {},
   "outputs": [
    {
     "name": "stdout",
     "output_type": "stream",
     "text": [
      "10.933196999886809 (array([9]), array([23]))\n"
     ]
    }
   ],
   "source": [
    "folder = \"benchmark_testcases_4/RUN_3/\"\n",
    "filename = os.path.join(folder, \"pflotran.h5\")\n",
    "with h5py.File(filename, \"r\") as file:\n",
    "    maxtemp = np.max(file['   4 Time  2.75000E+01 y']['Temperature [C]'])\n",
    "    temp_reshape = np.reshape(file['   4 Time  2.75000E+01 y']['Temperature [C]'], (20, 256), order='F')\n",
    "    print(maxtemp, np.where(temp_reshape==maxtemp))"
   ]
  },
  {
   "attachments": {},
   "cell_type": "markdown",
   "metadata": {},
   "source": [
    "## Evaluate max. temperature of groundtruth dataset"
   ]
  },
  {
   "cell_type": "code",
   "execution_count": 115,
   "metadata": {},
   "outputs": [
    {
     "name": "stdout",
     "output_type": "stream",
     "text": [
      "14.101626311396641 (array([49]), array([119]), array([2]))\n"
     ]
    }
   ],
   "source": [
    "folder = \"benchmark_dataset_3d_fine/RUN_3/\"\n",
    "filename = os.path.join(folder, \"pflotran.h5\")\n",
    "with h5py.File(filename, \"r\") as file:\n",
    "    maxtemp = np.max(file['   4 Time  2.75000E+01 y']['Temperature [C]'])\n",
    "    temp_reshape = np.reshape(file['   4 Time  2.75000E+01 y']['Temperature [C]'], (100, 1280, 5), order='F')\n",
    "    print(maxtemp, np.where(temp_reshape==maxtemp))"
   ]
  },
  {
   "attachments": {},
   "cell_type": "markdown",
   "metadata": {},
   "source": [
    "## Evaluate plume of 2D Pflotran dataset"
   ]
  },
  {
   "cell_type": "code",
   "execution_count": 177,
   "metadata": {},
   "outputs": [
    {
     "ename": "ValueError",
     "evalue": "zero-size array to reduction operation maximum which has no identity",
     "output_type": "error",
     "traceback": [
      "\u001b[0;31m---------------------------------------------------------------------------\u001b[0m",
      "\u001b[0;31mValueError\u001b[0m                                Traceback (most recent call last)",
      "\u001b[1;32m/home/pelzerja/pelzerja/test_nn/dataset_generation_laptop/Phd_simulation_groundtruth/datasets/benchmark_eval.ipynb Cell 8\u001b[0m in \u001b[0;36m<cell line: 19>\u001b[0;34m()\u001b[0m\n\u001b[1;32m     <a href='vscode-notebook-cell://ssh-remote%2Bpcsgs05/home/pelzerja/pelzerja/test_nn/dataset_generation_laptop/Phd_simulation_groundtruth/datasets/benchmark_eval.ipynb#W3sdnNjb2RlLXJlbW90ZQ%3D%3D?line=15'>16</a>\u001b[0m \u001b[39m# plot path.vertices\u001b[39;00m\n\u001b[1;32m     <a href='vscode-notebook-cell://ssh-remote%2Bpcsgs05/home/pelzerja/pelzerja/test_nn/dataset_generation_laptop/Phd_simulation_groundtruth/datasets/benchmark_eval.ipynb#W3sdnNjb2RlLXJlbW90ZQ%3D%3D?line=16'>17</a>\u001b[0m plt\u001b[39m.\u001b[39mplot(vertices[:,\u001b[39m0\u001b[39m], vertices[:,\u001b[39m1\u001b[39m], \u001b[39m'\u001b[39m\u001b[39myo\u001b[39m\u001b[39m'\u001b[39m)\n\u001b[0;32m---> <a href='vscode-notebook-cell://ssh-remote%2Bpcsgs05/home/pelzerja/pelzerja/test_nn/dataset_generation_laptop/Phd_simulation_groundtruth/datasets/benchmark_eval.ipynb#W3sdnNjb2RlLXJlbW90ZQ%3D%3D?line=18'>19</a>\u001b[0m \u001b[39mprint\u001b[39m(\u001b[39m\"\u001b[39m\u001b[39mmax. width plume\u001b[39m\u001b[39m\"\u001b[39m, np\u001b[39m.\u001b[39mround((np\u001b[39m.\u001b[39;49mmax(vertices[:,\u001b[39m1\u001b[39;49m])\u001b[39m-\u001b[39mnp\u001b[39m.\u001b[39mmin(vertices[:,\u001b[39m1\u001b[39m]))\u001b[39m*\u001b[39m\u001b[39m5\u001b[39m, \u001b[39m2\u001b[39m))\n\u001b[1;32m     <a href='vscode-notebook-cell://ssh-remote%2Bpcsgs05/home/pelzerja/pelzerja/test_nn/dataset_generation_laptop/Phd_simulation_groundtruth/datasets/benchmark_eval.ipynb#W3sdnNjb2RlLXJlbW90ZQ%3D%3D?line=19'>20</a>\u001b[0m plume_len \u001b[39m=\u001b[39m np\u001b[39m.\u001b[39mround((np\u001b[39m.\u001b[39mmax(vertices[:,\u001b[39m0\u001b[39m])\u001b[39m-\u001b[39mnp\u001b[39m.\u001b[39mmin(vertices[:,\u001b[39m0\u001b[39m]))\u001b[39m*\u001b[39m\u001b[39m5\u001b[39m, \u001b[39m2\u001b[39m)\n\u001b[1;32m     <a href='vscode-notebook-cell://ssh-remote%2Bpcsgs05/home/pelzerja/pelzerja/test_nn/dataset_generation_laptop/Phd_simulation_groundtruth/datasets/benchmark_eval.ipynb#W3sdnNjb2RlLXJlbW90ZQ%3D%3D?line=20'>21</a>\u001b[0m \u001b[39m# if plume_len < 0:\u001b[39;00m\n\u001b[1;32m     <a href='vscode-notebook-cell://ssh-remote%2Bpcsgs05/home/pelzerja/pelzerja/test_nn/dataset_generation_laptop/Phd_simulation_groundtruth/datasets/benchmark_eval.ipynb#W3sdnNjb2RlLXJlbW90ZQ%3D%3D?line=21'>22</a>\u001b[0m \u001b[39m#     plume_len = np.round(np.max(vertices[:,0])*5, 2)\u001b[39;00m\n",
      "File \u001b[0;32m<__array_function__ internals>:180\u001b[0m, in \u001b[0;36mamax\u001b[0;34m(*args, **kwargs)\u001b[0m\n",
      "File \u001b[0;32m~/.local/lib/python3.8/site-packages/numpy/core/fromnumeric.py:2791\u001b[0m, in \u001b[0;36mamax\u001b[0;34m(a, axis, out, keepdims, initial, where)\u001b[0m\n\u001b[1;32m   2675\u001b[0m \u001b[39m@array_function_dispatch\u001b[39m(_amax_dispatcher)\n\u001b[1;32m   2676\u001b[0m \u001b[39mdef\u001b[39;00m \u001b[39mamax\u001b[39m(a, axis\u001b[39m=\u001b[39m\u001b[39mNone\u001b[39;00m, out\u001b[39m=\u001b[39m\u001b[39mNone\u001b[39;00m, keepdims\u001b[39m=\u001b[39mnp\u001b[39m.\u001b[39m_NoValue, initial\u001b[39m=\u001b[39mnp\u001b[39m.\u001b[39m_NoValue,\n\u001b[1;32m   2677\u001b[0m          where\u001b[39m=\u001b[39mnp\u001b[39m.\u001b[39m_NoValue):\n\u001b[1;32m   2678\u001b[0m     \u001b[39m\"\"\"\u001b[39;00m\n\u001b[1;32m   2679\u001b[0m \u001b[39m    Return the maximum of an array or maximum along an axis.\u001b[39;00m\n\u001b[1;32m   2680\u001b[0m \n\u001b[0;32m   (...)\u001b[0m\n\u001b[1;32m   2789\u001b[0m \u001b[39m    5\u001b[39;00m\n\u001b[1;32m   2790\u001b[0m \u001b[39m    \"\"\"\u001b[39;00m\n\u001b[0;32m-> 2791\u001b[0m     \u001b[39mreturn\u001b[39;00m _wrapreduction(a, np\u001b[39m.\u001b[39;49mmaximum, \u001b[39m'\u001b[39;49m\u001b[39mmax\u001b[39;49m\u001b[39m'\u001b[39;49m, axis, \u001b[39mNone\u001b[39;49;00m, out,\n\u001b[1;32m   2792\u001b[0m                           keepdims\u001b[39m=\u001b[39;49mkeepdims, initial\u001b[39m=\u001b[39;49minitial, where\u001b[39m=\u001b[39;49mwhere)\n",
      "File \u001b[0;32m~/.local/lib/python3.8/site-packages/numpy/core/fromnumeric.py:86\u001b[0m, in \u001b[0;36m_wrapreduction\u001b[0;34m(obj, ufunc, method, axis, dtype, out, **kwargs)\u001b[0m\n\u001b[1;32m     83\u001b[0m         \u001b[39melse\u001b[39;00m:\n\u001b[1;32m     84\u001b[0m             \u001b[39mreturn\u001b[39;00m reduction(axis\u001b[39m=\u001b[39maxis, out\u001b[39m=\u001b[39mout, \u001b[39m*\u001b[39m\u001b[39m*\u001b[39mpasskwargs)\n\u001b[0;32m---> 86\u001b[0m \u001b[39mreturn\u001b[39;00m ufunc\u001b[39m.\u001b[39;49mreduce(obj, axis, dtype, out, \u001b[39m*\u001b[39;49m\u001b[39m*\u001b[39;49mpasskwargs)\n",
      "\u001b[0;31mValueError\u001b[0m: zero-size array to reduction operation maximum which has no identity"
     ]
    },
    {
     "data": {
      "image/png": "[encoded data removed]",
      "text/plain": [
       "<Figure size 2000x300 with 1 Axes>"
      ]
     },
     "metadata": {},
     "output_type": "display_data"
    }
   ],
   "source": [
    "folder = \"benchmark_testcases_4/RUN_3\"\n",
    "filename = os.path.join(folder, \"pflotran.h5\")\n",
    "with h5py.File(filename, \"r\") as file:\n",
    "    temp = file['   4 Time  2.75000E+01 y']['Temperature [C]']\n",
    "    temp = np.reshape(temp, (20, 256), order='F')\n",
    "    _, axes = plt.subplots(1,1,sharex=True,figsize=(20,3))\n",
    "    contours = plt.contourf(temp, levels=np.arange(10.6, 15.6, 1), cmap='RdBu_r')\n",
    "    path = contours.collections[0].get_paths()[0]\n",
    "    vertices = path.vertices\n",
    "# remove boundary values from vertices\n",
    "vertices = vertices[vertices[:,0] != 0]\n",
    "vertices = vertices[vertices[:,1] != 0]\n",
    "vertices = vertices[vertices[:,0] != 255]\n",
    "vertices = vertices[vertices[:,1] != 19]\n",
    "\n",
    "# plot path.vertices\n",
    "plt.plot(vertices[:,0], vertices[:,1], 'yo')\n",
    "\n",
    "print(\"max. width plume\", np.round((np.max(vertices[:,1])-np.min(vertices[:,1]))*5, 2))\n",
    "plume_len = np.round((np.max(vertices[:,0])-np.min(vertices[:,0]))*5, 2)\n",
    "# if plume_len < 0:\n",
    "#     plume_len = np.round(np.max(vertices[:,0])*5, 2)\n",
    "print(\"length plume\", plume_len)\n",
    "    "
   ]
  },
  {
   "attachments": {},
   "cell_type": "markdown",
   "metadata": {},
   "source": [
    "## Evaluate plume of groundtruth dataset"
   ]
  },
  {
   "cell_type": "code",
   "execution_count": 176,
   "metadata": {},
   "outputs": [
    {
     "name": "stdout",
     "output_type": "stream",
     "text": [
      "max. width plume 1.18\n",
      "length plume 114.07\n"
     ]
    },
    {
     "data": {
      "image/png": "[encoded data removed]",
      "text/plain": [
       "<Figure size 2000x300 with 1 Axes>"
      ]
     },
     "metadata": {},
     "output_type": "display_data"
    }
   ],
   "source": [
    "folder = \"benchmark_dataset_3d_fine/RUN_3/\"\n",
    "filename = os.path.join(folder, \"pflotran.h5\")\n",
    "with h5py.File(filename, \"r\") as file:\n",
    "    temp = file['   4 Time  2.75000E+01 y']['Temperature [C]']\n",
    "    temp = np.reshape(temp, (100, 1280, 5), order='F')\n",
    "    _, axes = plt.subplots(1,1,sharex=True,figsize=(20,3))\n",
    "    contours = plt.contourf(temp[:,:,3], levels=np.arange(10.6, 15.6, 1), cmap='RdBu_r')\n",
    "    path = contours.collections[0].get_paths()[0]\n",
    "    vertices = path.vertices\n",
    "# remove boundary values from vertices\n",
    "vertices = vertices[vertices[:,0] != 0]\n",
    "vertices = vertices[vertices[:,1] != 0]\n",
    "vertices = vertices[vertices[:,0] != 1279]\n",
    "vertices = vertices[vertices[:,1] != 99]\n",
    "\n",
    "# plot path.vertices\n",
    "plt.plot(vertices[:,0], vertices[:,1], 'yo')\n",
    "\n",
    "print(\"max. width plume\", np.round((np.max(vertices[:,1])-np.min(vertices[:,1])), 2))\n",
    "plume_len = np.round(np.max(vertices[:,0])-np.min(vertices[:,0]), 2)\n",
    "print(\"length plume\", plume_len) #, np.min(vertices[:,0]), np.round((np.max(vertices[:,0])-0), 2))"
   ]
  },
  {
   "cell_type": "code",
   "execution_count": null,
   "metadata": {},
   "outputs": [],
   "source": []
  }
 ],
 "metadata": {
  "kernelspec": {
   "display_name": "Python 3",
   "language": "python",
   "name": "python3"
  },
  "language_info": {
   "codemirror_mode": {
    "name": "ipython",
    "version": 3
   },
   "file_extension": ".py",
   "mimetype": "text/x-python",
   "name": "python",
   "nbconvert_exporter": "python",
   "pygments_lexer": "ipython3",
   "version": "3.8.10"
  },
  "orig_nbformat": 4,
  "vscode": {
   "interpreter": {
    "hash": "31f2aee4e71d21fbe5cf8b01ff0e069b9275f58929596ceb00d14d90e3e16cd6"
   }
  }
 },
 "nbformat": 4,
 "nbformat_minor": 2
}
