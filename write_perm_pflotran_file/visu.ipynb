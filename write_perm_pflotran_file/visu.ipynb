{
 "cells": [
  {
   "cell_type": "code",
   "execution_count": null,
   "metadata": {},
   "outputs": [],
   "source": [
    "import h5py\n",
    "import numpy as np\n",
    "from typing import Dict\n",
    "import matplotlib.pyplot as plt\n",
    "from mpl_toolkits.axes_grid1 import make_axes_locatable\n",
    "\n",
    "%reload_ext autoreload\n",
    "%autoreload 2"
   ]
  },
  {
   "cell_type": "code",
   "execution_count": null,
   "metadata": {},
   "outputs": [],
   "source": [
    "def plot_sim(path:str=\"try/RUN_0\", plot_name:str=\"plot_test_sim\", case=\"side_hp\", reshape=True):\n",
    "    with h5py.File(path+\"/pflotran.h5\", \"r\") as file:\n",
    "        list_to_plot = _make_plottable_and_2D(file, case, reshape)\n",
    "\n",
    "    _plot_y(list_to_plot, path, name_pic=plot_name)\n",
    "    try:\n",
    "        print(f\"Temperature at HP: {np.round(list_to_plot[11]['data'][9,23],4)}\")\n",
    "    except:\n",
    "        print(f\"Temperature at HP: {np.round(list_to_plot[11]['data'][23,9], 4)}\")\n",
    "\n",
    "def _make_plottable_and_2D(hdf5_file, case, reshape):\n",
    "    list_to_plot = []\n",
    "    for time in hdf5_file.keys():\n",
    "        if not time in [\"   0 Time  0.00000E+00 y\", \"Coordinates\", \"Provenance\", \"Time:  0.00000E+00 y\"]:\n",
    "            for property in hdf5_file[time].keys():\n",
    "                data_dict = {\"data\" : np.array(hdf5_file[time][property]), \"property\" : str(property)+str(time)}\n",
    "                if reshape:\n",
    "                    data_dict[\"data\"] = data_dict[\"data\"] = data_dict[\"data\"].reshape(20,150,16, order=\"F\")\n",
    "                if case==\"side_hp\":\n",
    "                    data_dict[\"data\"] = data_dict[\"data\"][9,:,:].T\n",
    "                elif case==\"top_hp\":\n",
    "                    data_dict[\"data\"] = data_dict[\"data\"][:,:,9]\n",
    "                else:\n",
    "                    raise ValueError(\"Case not implemented\")\n",
    "                list_to_plot.append(data_dict)\n",
    "    return list_to_plot\n",
    "\n",
    "def _plot_y(data, path, name_pic=\"plot_y_exemplary\"):\n",
    "    n_subplots = len(data)\n",
    "    _, axes = plt.subplots(n_subplots,1,sharex=True,figsize=(20,3*(n_subplots)))\n",
    "    \n",
    "    for index, data_point in enumerate(data):\n",
    "        plt.sca(axes[index])\n",
    "        plt.imshow(data_point[\"data\"])\n",
    "        plt.gca().invert_yaxis()\n",
    "\n",
    "        plt.xlabel(\"y\")\n",
    "        plt.ylabel(\"x or z\")\n",
    "        _aligned_colorbar(label=data_point[\"property\"])\n",
    "    \n",
    "    pic_file_name = f\"{path}/{name_pic}.jpg\"\n",
    "    print(f\"Resulting picture is at {pic_file_name}\")  \n",
    "    plt.savefig(pic_file_name)\n",
    "\n",
    "\n",
    "def _aligned_colorbar(*args,**kwargs):\n",
    "    cax = make_axes_locatable(plt.gca()).append_axes(\"right\",size=0.3,pad=0.05)\n",
    "    plt.colorbar(*args,cax=cax,**kwargs)\n",
    "    "
   ]
  },
  {
   "cell_type": "code",
   "execution_count": null,
   "metadata": {},
   "outputs": [],
   "source": [
    "plot_sim(path=\"groundtruth\", plot_name=\"groundtruth_2_datapoints\", reshape=False)\n",
    "# new version below is better"
   ]
  },
  {
   "cell_type": "code",
   "execution_count": null,
   "metadata": {},
   "outputs": [],
   "source": [
    "plot_sim(path=\"try_2D/RUN_1\", case=\"side_hp\")"
   ]
  }
 ],
 "metadata": {
  "kernelspec": {
   "display_name": "Python 3.8.10 64-bit",
   "language": "python",
   "name": "python3"
  },
  "language_info": {
   "codemirror_mode": {
    "name": "ipython",
    "version": 3
   },
   "file_extension": ".py",
   "mimetype": "text/x-python",
   "name": "python",
   "nbconvert_exporter": "python",
   "pygments_lexer": "ipython3",
   "version": "3.8.10"
  },
  "orig_nbformat": 4,
  "vscode": {
   "interpreter": {
    "hash": "916dbcbb3f70747c44a77c7bcd40155683ae19c65e1c03b4aa3499c5328201f1"
   }
  }
 },
 "nbformat": 4,
 "nbformat_minor": 2
}
