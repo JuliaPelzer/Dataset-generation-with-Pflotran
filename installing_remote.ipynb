{
 "cells": [
  {
   "cell_type": "code",
   "execution_count": 2,
   "metadata": {},
   "outputs": [
    {
     "name": "stdout",
     "output_type": "stream",
     "text": [
      "---------------------- \u001b[1;94m/usr/local.nfs/Modules/modulefiles\u001b[0m ----------------------\u001b[m\n",
      "cuda/10.0             eclipse/eclipse-2019-06                papi/u2004/6.0.0  \u001b[m\n",
      "cuda/10.1             extrae/u2004/3.8.3                     python/3.7.4      \u001b[m\n",
      "cuda/10.2             gcc/7.4.0                              python/3.7.5      \u001b[m\n",
      "cuda/11.0.3           gcc/9.2.0                              python/3.10.4     \u001b[m\n",
      "cuda/11.2.1           mpi/mpich-3.3.1-gcc-9.2.0              sim               \u001b[m\n",
      "cuda/11.2.2           mpi/openmpi-4.0.1-gcc-7.4.0-cuda-10.1  \u001b[m\n",
      "cuda/11.4.3           mpi/openmpi-4.0.1-gcc-9.2.0            \u001b[m\n",
      "dot                   mpi/u2004/openmpi-4.1.1                \u001b[m\n",
      "doxygen/1.8.20-u2004  mpi/u2004/openmpi-4.1.1-cuda           \u001b[m\n",
      "\u001b[m\n",
      "------------------------ \u001b[1;94m/usr/local.nfs/sgs/modulefiles\u001b[0m ------------------------\u001b[m\n",
      "argon-epyc/precice/1.6.1-debug-mpi         openmpi/4.0.5-gcc-10.2        \u001b[m\n",
      "argon-epyc/precice/1.6.1-release-mpi       papi                          \u001b[m\n",
      "argon-tesla/gcc/9.3-openmp                 paraver/4.7.2                 \u001b[m\n",
      "argon-tesla/gcc/10.2-openmp                paraver/4.9.2                 \u001b[m\n",
      "argon-tesla/gcc/10.2-openmp-custom         paraview                      \u001b[m\n",
      "argon-tesla/gcc/11-20201227-openmp         pcsgs/sycl                    \u001b[m\n",
      "argon-tesla/gcc/11-20210110-openmp         perf                          \u001b[m\n",
      "argon-tesla/openmpi-cuda10.1-gcc7.4-slurm  python/3.8.5                  \u001b[m\n",
      "argon-tesla/openmpi/4.0.5-gcc10.2          ub2004/boost/1.72.0           \u001b[m\n",
      "argon-tesla/openmpi/4.0.5-gcc11            ub2004/boost/1.74.0           \u001b[m\n",
      "argon-tesla/python/3.8.5-tensorflow-cuda   ub2004/boost/1.75.0           \u001b[m\n",
      "\u001b[K\u001b[?1l\u001b>"
     ]
    }
   ],
   "source": [
    "!module avail\n",
    "#!module load cuda-11.2.1\n",
    "!module load mpi/mpich-x86_64"
   ]
  },
  {
   "cell_type": "code",
   "execution_count": null,
   "metadata": {},
   "outputs": [],
   "source": []
  }
 ],
 "metadata": {
  "kernelspec": {
   "display_name": "Python 3.8.10 64-bit",
   "language": "python",
   "name": "python3"
  },
  "language_info": {
   "codemirror_mode": {
    "name": "ipython",
    "version": 3
   },
   "file_extension": ".py",
   "mimetype": "text/x-python",
   "name": "python",
   "nbconvert_exporter": "python",
   "pygments_lexer": "ipython3",
   "version": "3.8.10"
  },
  "orig_nbformat": 4,
  "vscode": {
   "interpreter": {
    "hash": "e7370f93d1d0cde622a1f8e1c04877d8463912d04d973331ad4851f04de6915a"
   }
  }
 },
 "nbformat": 4,
 "nbformat_minor": 2
}
